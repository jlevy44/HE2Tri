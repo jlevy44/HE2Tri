{
 "cells": [
  {
   "cell_type": "code",
   "execution_count": null,
   "id": "025b2a62",
   "metadata": {},
   "outputs": [],
   "source": [
    "import os,glob\n",
    "list(filter(lambda x: \"tri\" not in x,glob.glob(\"vTri/data/*\")))"
   ]
  },
  {
   "cell_type": "code",
   "execution_count": null,
   "id": "4bd13d69",
   "metadata": {},
   "outputs": [],
   "source": [
    "%%bash\n",
    "export CUDA_VISIBLE_DEVICES=\"0\"\n",
    "vTri_DIR=vTri/data/\n",
    "basename=19_2.npy\n",
    "gpu=\"0\"\n",
    "python test_wsi.py --results_dir_wsi wsi_results/ \\\n",
    "            --model_loc G_A:./he2tri/latest_net_G_A.pth \\\n",
    "            --dataroot ./datasets/test_images/ --dataset_mode wsi --name he2tri \\\n",
    "            --phase test --wsi_name ${vTri_DIR}/${basename} \\\n",
    "            --no_dropout --model_suffix _A --iter_start 0 --load_iter 0 --iter_incr 0 --load_size 256 --crop_size 256 --dps 256 \\\n",
    "            --shrink_factor 1 --model test --gpu_ids ${gpu}"
   ]
  },
  {
   "cell_type": "code",
   "execution_count": null,
   "id": "8aad244a",
   "metadata": {},
   "outputs": [],
   "source": [
    "! ls vTri/data/"
   ]
  },
  {
   "cell_type": "code",
   "execution_count": null,
   "id": "f39729d2",
   "metadata": {},
   "outputs": [],
   "source": [
    "! ls wsi_results"
   ]
  },
  {
   "cell_type": "code",
   "execution_count": null,
   "id": "02ddf2d9",
   "metadata": {},
   "outputs": [],
   "source": [
    "import numpy as np\n",
    "import matplotlib.pyplot as plt\n",
    "import cv2\n",
    "import matplotlib; matplotlib.rcParams['figure.dpi']=300"
   ]
  },
  {
   "cell_type": "code",
   "execution_count": null,
   "id": "bf2cef7a",
   "metadata": {},
   "outputs": [],
   "source": [
    "original_data_dir=\"vTri/data/\"\n",
    "basename=\"19_2.npy\"\n",
    "original_he=np.load(os.path.join(original_data_dir,basename))\n",
    "original_tri=np.load(os.path.join(original_data_dir,basename.replace(\".npy\",\"_tri.npy\")))\n",
    "converted_tri=np.load(os.path.join(\"wsi_results\",basename.replace(\".npy\",\"_converted.npy\")))"
   ]
  },
  {
   "cell_type": "code",
   "execution_count": null,
   "id": "09093fb4",
   "metadata": {},
   "outputs": [],
   "source": [
    "compression=6\n",
    "original_he_small=cv2.resize(original_he,None,fx=1/compression,fy=1/compression)\n",
    "original_tri_small=cv2.resize(original_tri,None,fx=1/compression,fy=1/compression)\n",
    "converted_tri_small=cv2.resize(converted_tri,None,fx=1/compression,fy=1/compression)"
   ]
  },
  {
   "cell_type": "markdown",
   "id": "c9ea48be",
   "metadata": {},
   "source": [
    "Original WSI"
   ]
  },
  {
   "cell_type": "code",
   "execution_count": null,
   "id": "1e14add6",
   "metadata": {},
   "outputs": [],
   "source": [
    "plt.imshow(original_he_small)\n",
    "plt.axis(\"off\")"
   ]
  },
  {
   "cell_type": "markdown",
   "id": "6b585cd2",
   "metadata": {},
   "source": [
    "Converted Trichrome"
   ]
  },
  {
   "cell_type": "code",
   "execution_count": null,
   "id": "0597605b",
   "metadata": {},
   "outputs": [],
   "source": [
    "plt.imshow(converted_tri_small)\n",
    "plt.axis(\"off\")"
   ]
  },
  {
   "cell_type": "markdown",
   "id": "2a48e5b6",
   "metadata": {},
   "source": [
    "Original Tri"
   ]
  },
  {
   "cell_type": "code",
   "execution_count": null,
   "id": "cd445802",
   "metadata": {},
   "outputs": [],
   "source": [
    "plt.imshow(original_tri_small)\n",
    "plt.axis(\"off\")"
   ]
  },
  {
   "cell_type": "code",
   "execution_count": null,
   "id": "5443eaab",
   "metadata": {},
   "outputs": [],
   "source": []
  }
 ],
 "metadata": {
  "kernelspec": {
   "display_name": "detectron",
   "language": "python",
   "name": "detectron"
  },
  "language_info": {
   "codemirror_mode": {
    "name": "ipython",
    "version": 3
   },
   "file_extension": ".py",
   "mimetype": "text/x-python",
   "name": "python",
   "nbconvert_exporter": "python",
   "pygments_lexer": "ipython3",
   "version": "3.7.11"
  }
 },
 "nbformat": 4,
 "nbformat_minor": 5
}
